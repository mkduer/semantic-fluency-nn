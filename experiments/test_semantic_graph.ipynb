{
 "cells": [
  {
   "cell_type": "code",
   "execution_count": 1,
   "metadata": {},
   "outputs": [
    {
     "name": "stderr",
     "output_type": "stream",
     "text": [
      "C:\\Users\\carso\\Anaconda3\\lib\\site-packages\\gensim\\utils.py:1197: UserWarning: detected Windows; aliasing chunkize to chunkize_serial\n",
      "  warnings.warn(\"detected Windows; aliasing chunkize to chunkize_serial\")\n"
     ]
    }
   ],
   "source": [
    "import numpy as np\n",
    "import os\n",
    "os.chdir('..')\n",
    "from src.graph.semantic_network import SemanticNetwork\n",
    "from src.text.text_wrangler import Corpus\n",
    "from gensim.models import Word2Vec"
   ]
  },
  {
   "cell_type": "code",
   "execution_count": 2,
   "metadata": {},
   "outputs": [],
   "source": [
    "shakespeare = Corpus(\"docs/shakespeare.txt\")\n",
    "model = Word2Vec(shakespeare.sentence_matrix, size = 120,\n",
    "                 window = 5, min_count=5, workers=8, sg=1)\n",
    "network = SemanticNetwork(model)"
   ]
  },
  {
   "cell_type": "code",
   "execution_count": 4,
   "metadata": {},
   "outputs": [
    {
     "name": "stdout",
     "output_type": "stream",
     "text": [
      "Round 0 ==================\n",
      "Updated 3607 edges\n",
      "Round 1 ==================\n",
      "Updated 1702 edges\n",
      "Round 2 ==================\n",
      "Updated 1040 edges\n",
      "Round 3 ==================\n",
      "Updated 874 edges\n",
      "Round 4 ==================\n",
      "Updated 620 edges\n"
     ]
    }
   ],
   "source": [
    "for i in range(5):\n",
    "    model.train(shakespeare.sentence_matrix, total_examples=len(shakespeare.sentence_matrix),\n",
    "                epochs=1, compute_loss=True)\n",
    "    loss = model.get_latest_training_loss()\n",
    "    # Quick glimpse at what Word2Vec finds to be the most similar\n",
    "    sim = model.wv.most_similar(\"romeo\")\n",
    "    print(\"Round {} ==================\".format(i))\n",
    "    network.update_semantic_network(em_proportion=0.1, g_proportion=0.1, stop_set=set(), thresh=0.8, verbose=True)"
   ]
  }
 ],
 "metadata": {
  "kernelspec": {
   "display_name": "Python 3",
   "language": "python",
   "name": "python3"
  },
  "language_info": {
   "codemirror_mode": {
    "name": "ipython",
    "version": 3
   },
   "file_extension": ".py",
   "mimetype": "text/x-python",
   "name": "python",
   "nbconvert_exporter": "python",
   "pygments_lexer": "ipython3",
   "version": "3.7.0"
  }
 },
 "nbformat": 4,
 "nbformat_minor": 2
}
