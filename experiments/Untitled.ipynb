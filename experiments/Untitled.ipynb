{
 "cells": [
  {
   "cell_type": "code",
   "execution_count": 1,
   "metadata": {},
   "outputs": [],
   "source": [
    "import os\n",
    "os.chdir(\"..\")"
   ]
  },
  {
   "cell_type": "code",
   "execution_count": 2,
   "metadata": {},
   "outputs": [],
   "source": [
    "from src.graph.Graph import UndirectedGraph\n",
    "import src.text.text_wrangler as wrangler"
   ]
  },
  {
   "cell_type": "code",
   "execution_count": 3,
   "metadata": {},
   "outputs": [],
   "source": [
    "shakespeare = wrangler.load_corpus(\"docs/shakespeare.txt\")\n",
    "# print(shakespeare[:100])\n",
    "\n",
    "sentence_mtx = wrangler.prepare_corpus(shakespeare)\n",
    "\n",
    "# shakespeare_sentences = nltk.sent_tokenize(shakespeare)\n",
    "# # shakespeare_toks = nltk.word_tokenize(shakespeare_sentences)\n",
    "# # sentence_2d = [[sent] for sent in shakespeare_sentences]\n",
    "# tokenizer = nltk.RegexpTokenizer(r'\\w+')\n",
    "# lemmer = nltk.WordNetLemmatizer()\n",
    "# sentence_2d = [tokenizer.tokenize(sent) for sent in shakespeare_sentences]\n",
    "# sentence_2d = [[lemmer.lemmatize(word.lower()) for word in sent] for sent in sentence_2d]"
   ]
  },
  {
   "cell_type": "code",
   "execution_count": 6,
   "metadata": {},
   "outputs": [
    {
     "data": {
      "text/plain": [
       "99624"
      ]
     },
     "execution_count": 6,
     "metadata": {},
     "output_type": "execute_result"
    }
   ],
   "source": [
    "len(sentence_mtx)"
   ]
  }
 ],
 "metadata": {
  "kernelspec": {
   "display_name": "Python 3",
   "language": "python",
   "name": "python3"
  },
  "language_info": {
   "codemirror_mode": {
    "name": "ipython",
    "version": 3
   },
   "file_extension": ".py",
   "mimetype": "text/x-python",
   "name": "python",
   "nbconvert_exporter": "python",
   "pygments_lexer": "ipython3",
   "version": "3.7.0"
  }
 },
 "nbformat": 4,
 "nbformat_minor": 2
}
