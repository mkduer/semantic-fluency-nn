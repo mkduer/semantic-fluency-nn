{
 "cells": [
  {
   "cell_type": "code",
   "execution_count": 1,
   "metadata": {},
   "outputs": [
    {
     "name": "stderr",
     "output_type": "stream",
     "text": [
      "C:\\Users\\carso\\Anaconda3\\lib\\site-packages\\gensim\\utils.py:1197: UserWarning: detected Windows; aliasing chunkize to chunkize_serial\n",
      "  warnings.warn(\"detected Windows; aliasing chunkize to chunkize_serial\")\n"
     ]
    }
   ],
   "source": [
    "import numpy as np\n",
    "import os\n",
    "os.chdir('..')\n",
    "from gensim.models import Word2Vec\n",
    "from src.text.text_wrangler import Corpus\n",
    "from src.graph.Graph import UndirectedGraph\n",
    "from scipy import spatial\n",
    "from sklearn.metrics.pairwise import cosine_similarity"
   ]
  },
  {
   "cell_type": "code",
   "execution_count": 2,
   "metadata": {},
   "outputs": [],
   "source": [
    "shakespeare = Corpus(\"docs/shakespeare.txt\")"
   ]
  },
  {
   "cell_type": "code",
   "execution_count": 3,
   "metadata": {},
   "outputs": [],
   "source": [
    "model = Word2Vec(shakespeare.sentence_matrix, size = 120,\n",
    "                 window = 5, min_count=5, workers=8, sg=1)\n",
    "\n",
    "keyed_vectors = model.wv\n",
    "embedding_matrix = keyed_vectors.vectors\n",
    "word_to_index = {}\n",
    "index_to_word = {}\n",
    "for k, v in keyed_vectors.vocab.items():\n",
    "    word_to_index[k] = v.index\n",
    "    index_to_word[v.index] = k"
   ]
  },
  {
   "cell_type": "code",
   "execution_count": 4,
   "metadata": {},
   "outputs": [],
   "source": [
    "semantic_graph = UndirectedGraph()\n",
    "# semantic_matrix = np.zeros(shape=(embedding_matrix.shape[0], embedding_matrix.shape[0]), dtype=\"float32\")"
   ]
  },
  {
   "cell_type": "code",
   "execution_count": 5,
   "metadata": {},
   "outputs": [],
   "source": [
    "# Construct so that the word's row in the embedding_matrix lines up to the index in the semantic graph\n",
    "for i in range(embedding_matrix.shape[0]):\n",
    "    semantic_graph.add_node(index_to_word[i])"
   ]
  },
  {
   "cell_type": "code",
   "execution_count": 6,
   "metadata": {},
   "outputs": [],
   "source": [
    "def select_subset(matrix, matrix_height, subset_proportion=0.1):\n",
    "    subset_size = int(matrix_height * subset_proportion)\n",
    "    sample_indices = np.random.choice(matrix_height, size=subset_size, replace=False)\n",
    "    return sample_indices\n",
    "\n",
    "def update_semantic_network(embedding_matrix, semantic_graph, key_to_index, index_to_key,\n",
    "                            em_proportion=0.1, sg_proportion=0.1, stop_set=set(), thresh=0.8):\n",
    "    em_subset = np.array([wd for wd in select_subset(embedding_matrix, embedding_matrix.shape[0],\n",
    "                                                     subset_proportion=em_proportion) if wd not in stop_set])\n",
    "    sg_subset = np.array([wd for wd in select_subset(semantic_graph.adjacency_matrix, len(semantic_graph.nodes),\n",
    "                                                     subset_proportion=sg_proportion) if wd not in stop_set])\n",
    "\n",
    "    em_embeddings = embedding_matrix[em_subset,]\n",
    "    sg_embeddings = embedding_matrix[sg_subset,]\n",
    "    cos_sims = cosine_similarity(em_embeddings, sg_embeddings)\n",
    "    \n",
    "    for i, em_i in enumerate(em_subset):\n",
    "        for j, sg_j in enumerate(sg_subset):\n",
    "            if cos_sims[i, j] >= thresh:\n",
    "                semantic_graph.add_edge(index_to_key[em_i], index_to_key[sg_j], cos_sims[i, j])\n",
    "                \n",
    "    print(\"Updated\")    "
   ]
  },
  {
   "cell_type": "code",
   "execution_count": 7,
   "metadata": {},
   "outputs": [
    {
     "name": "stdout",
     "output_type": "stream",
     "text": [
      "Round 0 ==================\n",
      "Updated\n",
      "Round 1 ==================\n",
      "Updated\n",
      "Round 2 ==================\n",
      "Updated\n",
      "Round 3 ==================\n",
      "Updated\n",
      "Round 4 ==================\n",
      "Updated\n"
     ]
    }
   ],
   "source": [
    "for i in range(5):\n",
    "    model.train(shakespeare.sentence_matrix, total_examples=len(shakespeare.sentence_matrix),\n",
    "                epochs=1, compute_loss=True)\n",
    "    loss = model.get_latest_training_loss()\n",
    "    # Quick glimpse at what Word2Vec finds to be the most similar\n",
    "    sim = model.wv.most_similar(\"romeo\")\n",
    "    print(\"Round {} ==================\".format(i))\n",
    "    update_semantic_network(embedding_matrix, semantic_graph, key_to_index=word_to_index,\n",
    "                            index_to_key=index_to_word, em_proportion=0.2, sg_proportion=0.3)"
   ]
  },
  {
   "cell_type": "code",
   "execution_count": 9,
   "metadata": {},
   "outputs": [
    {
     "data": {
      "text/plain": [
       "3679988"
      ]
     },
     "execution_count": 9,
     "metadata": {},
     "output_type": "execute_result"
    }
   ],
   "source": [
    "updated = np.argwhere(semantic_graph.adjacency_matrix > 0)\n",
    "len(updated)"
   ]
  },
  {
   "cell_type": "code",
   "execution_count": null,
   "metadata": {},
   "outputs": [],
   "source": []
  },
  {
   "cell_type": "code",
   "execution_count": null,
   "metadata": {},
   "outputs": [],
   "source": []
  },
  {
   "cell_type": "code",
   "execution_count": null,
   "metadata": {},
   "outputs": [],
   "source": []
  },
  {
   "cell_type": "code",
   "execution_count": null,
   "metadata": {},
   "outputs": [],
   "source": []
  },
  {
   "cell_type": "code",
   "execution_count": null,
   "metadata": {},
   "outputs": [],
   "source": []
  },
  {
   "cell_type": "code",
   "execution_count": null,
   "metadata": {},
   "outputs": [],
   "source": []
  }
 ],
 "metadata": {
  "kernelspec": {
   "display_name": "Python 3",
   "language": "python",
   "name": "python3"
  },
  "language_info": {
   "codemirror_mode": {
    "name": "ipython",
    "version": 3
   },
   "file_extension": ".py",
   "mimetype": "text/x-python",
   "name": "python",
   "nbconvert_exporter": "python",
   "pygments_lexer": "ipython3",
   "version": "3.7.0"
  }
 },
 "nbformat": 4,
 "nbformat_minor": 2
}
