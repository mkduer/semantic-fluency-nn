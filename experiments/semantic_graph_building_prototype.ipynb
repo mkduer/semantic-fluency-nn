{
 "cells": [
  {
   "cell_type": "code",
   "execution_count": 1,
   "metadata": {},
   "outputs": [
    {
     "name": "stderr",
     "output_type": "stream",
     "text": [
      "C:\\Users\\carso\\Anaconda3\\lib\\site-packages\\gensim\\utils.py:1197: UserWarning: detected Windows; aliasing chunkize to chunkize_serial\n",
      "  warnings.warn(\"detected Windows; aliasing chunkize to chunkize_serial\")\n"
     ]
    }
   ],
   "source": [
    "import numpy as np\n",
    "import os\n",
    "os.chdir('..')\n",
    "from gensim.models import Word2Vec\n",
    "from src.text.text_wrangler import Corpus\n",
    "from src.graph.Graph import UndirectedGraph\n",
    "from scipy import spatial"
   ]
  },
  {
   "cell_type": "markdown",
   "metadata": {},
   "source": [
    "## Load the corpus and build initial model"
   ]
  },
  {
   "cell_type": "code",
   "execution_count": 2,
   "metadata": {},
   "outputs": [],
   "source": [
    "shakespeare = Corpus(\"docs/shakespeare.txt\")"
   ]
  },
  {
   "cell_type": "code",
   "execution_count": 3,
   "metadata": {},
   "outputs": [],
   "source": [
    "model = Word2Vec(shakespeare.sentence_matrix, size = 120,\n",
    "                 window = 5, min_count=5, workers=8, sg=1)\n",
    "\n",
    "keyed_vectors = model.wv\n",
    "embedding_matrix = keyed_vectors.vectors\n",
    "word_to_index = {}\n",
    "index_to_word = {}\n",
    "for k, v in keyed_vectors.vocab.items():\n",
    "    word_to_index[k] = v.index\n",
    "    index_to_word[v.index] = k"
   ]
  },
  {
   "cell_type": "code",
   "execution_count": 4,
   "metadata": {},
   "outputs": [],
   "source": [
    "semantic_graph = UndirectedGraph()"
   ]
  },
  {
   "cell_type": "code",
   "execution_count": 5,
   "metadata": {},
   "outputs": [],
   "source": [
    "# Construct so that the word's row in the embedding_matrix lines up to the index in the semantic graph\n",
    "for i in range(embedding_matrix.shape[0]):\n",
    "    semantic_graph.add_node(index_to_word[i])"
   ]
  },
  {
   "cell_type": "code",
   "execution_count": 6,
   "metadata": {},
   "outputs": [],
   "source": [
    "def select_subset(matrix, matrix_height, subset_proportion=0.1):\n",
    "    subset_size = int(matrix_height * subset_proportion)\n",
    "    sample_indices = np.random.choice(matrix_height, size=subset_size, replace=False)\n",
    "    return sample_indices\n",
    "\n",
    "def update_semantic_network(embedding_matrix, semantic_graph, key_to_index, index_to_key,\n",
    "                            em_proportion=0.1, sg_proportion=0.1, stop_set=set(), thresh=0.4):\n",
    "    em_subset = select_subset(embedding_matrix, embedding_matrix.shape[0], subset_proportion=em_proportion)\n",
    "    sg_subset = select_subset(semantic_graph.adjacency_matrix, len(semantic_graph.nodes),\n",
    "                              subset_proportion=sg_proportion)\n",
    "    for i in em_subset:\n",
    "        node_1 = index_to_key[i]\n",
    "        node_1_emb = embedding_matrix[i]\n",
    "        if node_1 in stop_set:\n",
    "            continue\n",
    "        for j in sg_subset:\n",
    "            node_2 = index_to_key[j]\n",
    "            node_2_emb = embedding_matrix[j]\n",
    "            if node_2 in stop_set:\n",
    "                continue\n",
    "            cos_sim = spatial.distance.cosine(node_1_emb, node_2_emb)\n",
    "#             print(\"Cosine similarity of {} and {}: {}\".format(\n",
    "#                 node_1, node_2, cos_sim\n",
    "#             ))\n",
    "            if cos_sim <= thresh:\n",
    "                semantic_graph.add_edge(node_1, node_2, cos_sim)\n",
    "#                 print(\"Updated edge to: {}\".format(semantic_graph.edge(node_1, node_2)))\n",
    "#             else:\n",
    "#                 print(\"No update.\")\n",
    "\n",
    "    print(em_subset.shape)\n",
    "    print(sg_subset.shape)\n",
    "    "
   ]
  },
  {
   "cell_type": "code",
   "execution_count": null,
   "metadata": {},
   "outputs": [
    {
     "name": "stdout",
     "output_type": "stream",
     "text": [
      "Round 0 ==================\n",
      "(814,)\n",
      "(1629,)\n",
      "Round 1 ==================\n",
      "(814,)\n",
      "(1629,)\n",
      "Round 2 ==================\n"
     ]
    }
   ],
   "source": [
    "for i in range(5):\n",
    "    model.train(shakespeare.sentence_matrix, total_examples=len(shakespeare.sentence_matrix),\n",
    "                epochs=1, compute_loss=True)\n",
    "    loss = model.get_latest_training_loss()\n",
    "    # Quick glimpse at what Word2Vec finds to be the most similar\n",
    "    sim = model.wv.most_similar(\"romeo\")\n",
    "    print(\"Round {} ==================\".format(i))\n",
    "    update_semantic_network(embedding_matrix, semantic_graph, key_to_index=word_to_index,\n",
    "                            index_to_key=index_to_word, em_proportion=0.1, sg_proportion=0.2)"
   ]
  },
  {
   "cell_type": "code",
   "execution_count": null,
   "metadata": {},
   "outputs": [],
   "source": [
    "print(semantic_graph.adjacency_matrix[0])\n",
    "for e in semantic_graph.adjacency_matrix[0]:\n",
    "    print(e, end='')\n",
    "print()"
   ]
  },
  {
   "cell_type": "code",
   "execution_count": null,
   "metadata": {},
   "outputs": [],
   "source": []
  },
  {
   "cell_type": "code",
   "execution_count": null,
   "metadata": {},
   "outputs": [],
   "source": []
  },
  {
   "cell_type": "code",
   "execution_count": null,
   "metadata": {},
   "outputs": [],
   "source": []
  },
  {
   "cell_type": "code",
   "execution_count": null,
   "metadata": {},
   "outputs": [],
   "source": []
  },
  {
   "cell_type": "code",
   "execution_count": null,
   "metadata": {},
   "outputs": [],
   "source": []
  },
  {
   "cell_type": "code",
   "execution_count": null,
   "metadata": {},
   "outputs": [],
   "source": []
  },
  {
   "cell_type": "code",
   "execution_count": null,
   "metadata": {},
   "outputs": [],
   "source": []
  }
 ],
 "metadata": {
  "kernelspec": {
   "display_name": "Python 3",
   "language": "python",
   "name": "python3"
  },
  "language_info": {
   "codemirror_mode": {
    "name": "ipython",
    "version": 3
   },
   "file_extension": ".py",
   "mimetype": "text/x-python",
   "name": "python",
   "nbconvert_exporter": "python",
   "pygments_lexer": "ipython3",
   "version": "3.7.0"
  }
 },
 "nbformat": 4,
 "nbformat_minor": 2
}
