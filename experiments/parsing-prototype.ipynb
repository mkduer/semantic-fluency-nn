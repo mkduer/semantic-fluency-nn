{
 "cells": [
  {
   "cell_type": "markdown",
   "metadata": {},
   "source": [
    "# text_wrangler API\n",
    "\n",
    "1. [Constructor](#constructor)\n",
    "2. [Sentence Matrix](#sentence_matrix)\n",
    "3. [Vocabulary](#vocabulary)\n",
    "4. [Stopwords](#stopwords)\n",
    "5. [Filtered Vocabulary](#filtered_vocabulary)\n",
    "6. [Demo with Word2Vec](#word2vec_demo)"
   ]
  },
  {
   "cell_type": "code",
   "execution_count": 1,
   "metadata": {},
   "outputs": [],
   "source": [
    "import os\n",
    "os.chdir(\"..\")"
   ]
  },
  {
   "cell_type": "code",
   "execution_count": 2,
   "metadata": {},
   "outputs": [],
   "source": [
    "from src.graph.Graph import UndirectedGraph\n",
    "from src.text.text_wrangler import Corpus"
   ]
  },
  {
   "cell_type": "markdown",
   "metadata": {},
   "source": [
    "## 1 Constructor <a name=\"constructor\"></a>\n",
    "Loads a corpus into a text_wrangler.Corpus object"
   ]
  },
  {
   "cell_type": "code",
   "execution_count": 3,
   "metadata": {},
   "outputs": [],
   "source": [
    "shakespeare = Corpus(\"docs/shakespeare.txt\")"
   ]
  },
  {
   "cell_type": "markdown",
   "metadata": {},
   "source": [
    "## 2 Sentence Matrix <a name=\"sentence_matrix\"></a>\n",
    "A matrix where the rows are tokenized sentences. This is the format that the Word2Vec model expects to receive the corpus in."
   ]
  },
  {
   "cell_type": "code",
   "execution_count": 10,
   "metadata": {},
   "outputs": [
    {
     "name": "stdout",
     "output_type": "stream",
     "text": [
      "99624\n",
      "['ah', 'wherefore', 'with', 'infection', 'should', 'he', 'live', 'and', 'with', 'his', 'presence', 'grace', 'impiety', 'that', 'sin', 'by', 'him', 'advantage', 'should', 'achieve', 'and', 'lace', 'it', 'self', 'with', 'his', 'society']\n"
     ]
    }
   ],
   "source": [
    "print(len(shakespeare.sentence_matrix))\n",
    "print(shakespeare.sentence_matrix[200])"
   ]
  },
  {
   "cell_type": "markdown",
   "metadata": {},
   "source": [
    "## 3 Vocabulary <a name=\"vocabulary\"></a>\n",
    "A set containing the unique vocabulary in the corpus."
   ]
  },
  {
   "cell_type": "code",
   "execution_count": 5,
   "metadata": {},
   "outputs": [
    {
     "data": {
      "text/plain": [
       "['forgave',\n",
       " 'openness',\n",
       " 'irremovable',\n",
       " 'strangles',\n",
       " 'napkin',\n",
       " 'bencher',\n",
       " 'mural',\n",
       " 'truepenny',\n",
       " 'malkin',\n",
       " 'unhallow']"
      ]
     },
     "execution_count": 5,
     "metadata": {},
     "output_type": "execute_result"
    }
   ],
   "source": [
    "list(shakespeare.vocab)[:10]"
   ]
  },
  {
   "cell_type": "code",
   "execution_count": 6,
   "metadata": {},
   "outputs": [
    {
     "data": {
      "text/plain": [
       "22444"
      ]
     },
     "execution_count": 6,
     "metadata": {},
     "output_type": "execute_result"
    }
   ],
   "source": [
    "len(shakespeare.vocab)"
   ]
  },
  {
   "cell_type": "markdown",
   "metadata": {},
   "source": [
    "## 4 Stopwords <a name=\"stopwords\"></a>\n",
    "A set containing the words that may be unimportant."
   ]
  },
  {
   "cell_type": "code",
   "execution_count": 7,
   "metadata": {},
   "outputs": [
    {
     "data": {
      "text/plain": [
       "['below',\n",
       " 'not',\n",
       " 'how',\n",
       " 'they',\n",
       " 'should',\n",
       " 'while',\n",
       " 'ma',\n",
       " 'their',\n",
       " 'what',\n",
       " 'herself']"
      ]
     },
     "execution_count": 7,
     "metadata": {},
     "output_type": "execute_result"
    }
   ],
   "source": [
    "list(shakespeare.stopwords)[:10]"
   ]
  },
  {
   "cell_type": "markdown",
   "metadata": {},
   "source": [
    "## 5 Filtered Vocabulary <a name=\"filtered_vocabulary\"></a>\n",
    "A set containing the corpus' vocab, with stopwords filtered out."
   ]
  },
  {
   "cell_type": "code",
   "execution_count": 11,
   "metadata": {},
   "outputs": [
    {
     "name": "stdout",
     "output_type": "stream",
     "text": [
      "['forgave', 'openness', 'irremovable', 'strangles', 'napkin', 'bencher', 'mural', 'truepenny', 'unhallow', 'nayward']\n",
      "22316\n"
     ]
    }
   ],
   "source": [
    "print(list(shakespeare.filtered_vocab)[:10])\n",
    "print(len(shakespeare.filtered_vocab))"
   ]
  },
  {
   "cell_type": "markdown",
   "metadata": {},
   "source": [
    "## 6 Word2Vec Demo with text_wrangler.Corpus <a name=\"word2vec_demo\"></a>"
   ]
  },
  {
   "cell_type": "code",
   "execution_count": 9,
   "metadata": {},
   "outputs": [
    {
     "name": "stderr",
     "output_type": "stream",
     "text": [
      "C:\\Users\\carso\\Anaconda3\\lib\\site-packages\\gensim\\utils.py:1197: UserWarning: detected Windows; aliasing chunkize to chunkize_serial\n",
      "  warnings.warn(\"detected Windows; aliasing chunkize to chunkize_serial\")\n"
     ]
    },
    {
     "name": "stdout",
     "output_type": "stream",
     "text": [
      "Round 0 ==================\n",
      "('tybalt', 0.8616291880607605)\n",
      "('juliet', 0.8234875202178955)\n",
      "('arthur', 0.7686914801597595)\n",
      "('mercutio', 0.7674623727798462)\n",
      "('harry', 0.7403349876403809)\n",
      "('cell', 0.7379287481307983)\n",
      "('rutland', 0.7296293377876282)\n",
      "('nurse', 0.728378176689148)\n",
      "('percy', 0.7262632846832275)\n",
      "('cato', 0.7247920036315918)\n",
      "\n",
      "\n",
      "\n",
      "Round 1 ==================\n",
      "('tybalt', 0.865548312664032)\n",
      "('juliet', 0.8079246282577515)\n",
      "('mercutio', 0.7740050554275513)\n",
      "('arthur', 0.7464786171913147)\n",
      "('cell', 0.7256070375442505)\n",
      "('cato', 0.7171488404273987)\n",
      "('rutland', 0.7166009545326233)\n",
      "('hector', 0.708516001701355)\n",
      "('imogen', 0.707841157913208)\n",
      "('percy', 0.7043918371200562)\n",
      "\n",
      "\n",
      "\n",
      "Round 2 ==================\n",
      "('tybalt', 0.856055498123169)\n",
      "('juliet', 0.7969727516174316)\n",
      "('mercutio', 0.760789155960083)\n",
      "('arthur', 0.7261384129524231)\n",
      "('cell', 0.7158156633377075)\n",
      "('cato', 0.7057111263275146)\n",
      "('outright', 0.6867507696151733)\n",
      "('rutland', 0.6862920522689819)\n",
      "('marcus', 0.6840404272079468)\n",
      "('murdered', 0.6761247515678406)\n",
      "\n",
      "\n",
      "\n",
      "Round 3 ==================\n",
      "('tybalt', 0.8447830677032471)\n",
      "('juliet', 0.7775887250900269)\n",
      "('mercutio', 0.7654483914375305)\n",
      "('arthur', 0.7070525288581848)\n",
      "('cell', 0.7029603719711304)\n",
      "('cato', 0.6917324066162109)\n",
      "('outright', 0.6880616545677185)\n",
      "('benvolio', 0.6717227697372437)\n",
      "('murdered', 0.6690535545349121)\n",
      "('wrote', 0.6663551330566406)\n",
      "\n",
      "\n",
      "\n",
      "Round 4 ==================\n",
      "('tybalt', 0.8361647129058838)\n",
      "('mercutio', 0.7679203748703003)\n",
      "('juliet', 0.7662638425827026)\n",
      "('arthur', 0.6814557313919067)\n",
      "('outright', 0.6804776191711426)\n",
      "('benvolio', 0.6759713888168335)\n",
      "('cell', 0.6743818521499634)\n",
      "('cato', 0.6743109226226807)\n",
      "('murdered', 0.6552548408508301)\n",
      "('rutland', 0.6509323120117188)\n",
      "\n",
      "\n",
      "\n"
     ]
    }
   ],
   "source": [
    "from gensim.models import Word2Vec\n",
    "\n",
    "model = Word2Vec(shakespeare.sentence_matrix, size = 120,\n",
    "                 window = 5, min_count=5, workers=8, sg=1)\n",
    "for i in range(5):\n",
    "    model.train(shakespeare.sentence_matrix, total_examples=len(shakespeare.sentence_matrix),\n",
    "                epochs=1, compute_loss=True)\n",
    "    loss = model.get_latest_training_loss()\n",
    "    # Quick glimpse at what Word2Vec finds to be the most similar\n",
    "    sim = model.wv.most_similar(\"romeo\")\n",
    "    print(\"Round {} ==================\".format(i))\n",
    "    for s in sim:\n",
    "        print(s)\n",
    "    print(\"\\n\\n\")"
   ]
  }
 ],
 "metadata": {
  "kernelspec": {
   "display_name": "Python 3",
   "language": "python",
   "name": "python3"
  },
  "language_info": {
   "codemirror_mode": {
    "name": "ipython",
    "version": 3
   },
   "file_extension": ".py",
   "mimetype": "text/x-python",
   "name": "python",
   "nbconvert_exporter": "python",
   "pygments_lexer": "ipython3",
   "version": "3.7.0"
  }
 },
 "nbformat": 4,
 "nbformat_minor": 2
}
