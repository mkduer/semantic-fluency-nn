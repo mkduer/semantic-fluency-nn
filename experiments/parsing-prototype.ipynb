{
 "cells": [
  {
   "cell_type": "markdown",
   "metadata": {},
   "source": [
    "# text_wrangler API\n",
    "\n",
    "1. [Constructor](#constructor)\n",
    "2. [Sentence Matrix](#sentence_matrix)\n",
    "3. [Vocabulary](#vocabulary)\n",
    "4. [Stopwords](#stopwords)\n",
    "5. [Filtered Vocabulary](#filtered_vocabulary)\n",
    "6. [Demo with Word2Vec](#word2vec_demo)"
   ]
  },
  {
   "cell_type": "code",
   "execution_count": 1,
   "metadata": {},
   "outputs": [],
   "source": [
    "import os\n",
    "os.chdir(\"..\")"
   ]
  },
  {
   "cell_type": "code",
   "execution_count": 2,
   "metadata": {},
   "outputs": [],
   "source": [
    "from src.graph.Graph import UndirectedGraph\n",
    "from src.text.text_wrangler import Corpus"
   ]
  },
  {
   "cell_type": "markdown",
   "metadata": {},
   "source": [
    "## 1 Constructor <a name=\"constructor\"></a>\n",
    "Loads a corpus into a text_wrangler.Corpus object"
   ]
  },
  {
   "cell_type": "code",
   "execution_count": 3,
   "metadata": {},
   "outputs": [],
   "source": [
    "shakespeare = Corpus(\"docs/shakespeare.txt\")"
   ]
  },
  {
   "cell_type": "markdown",
   "metadata": {},
   "source": [
    "## 2 Sentence Matrix <a name=\"sentence_matrix\"></a>\n",
    "A matrix where the rows are tokenized sentences. This is the format that the Word2Vec model expects to receive the corpus in."
   ]
  },
  {
   "cell_type": "code",
   "execution_count": 4,
   "metadata": {},
   "outputs": [
    {
     "data": {
      "text/plain": [
       "['ah',\n",
       " 'wherefore',\n",
       " 'with',\n",
       " 'infection',\n",
       " 'should',\n",
       " 'he',\n",
       " 'live',\n",
       " 'and',\n",
       " 'with',\n",
       " 'his',\n",
       " 'presence',\n",
       " 'grace',\n",
       " 'impiety',\n",
       " 'that',\n",
       " 'sin',\n",
       " 'by',\n",
       " 'him',\n",
       " 'advantage',\n",
       " 'should',\n",
       " 'achieve',\n",
       " 'and',\n",
       " 'lace',\n",
       " 'it',\n",
       " 'self',\n",
       " 'with',\n",
       " 'his',\n",
       " 'society']"
      ]
     },
     "execution_count": 4,
     "metadata": {},
     "output_type": "execute_result"
    }
   ],
   "source": [
    "shakespeare.sentence_matrix[200]"
   ]
  },
  {
   "cell_type": "markdown",
   "metadata": {},
   "source": [
    "## 3 Vocabulary <a name=\"vocabulary\"></a>\n",
    "A set containing the unique vocabulary in the corpus."
   ]
  },
  {
   "cell_type": "code",
   "execution_count": 5,
   "metadata": {},
   "outputs": [
    {
     "data": {
      "text/plain": [
       "['philomels',\n",
       " 'using',\n",
       " 'bid',\n",
       " 'stagger',\n",
       " 'metamorphisd',\n",
       " 'loathed',\n",
       " 'fitment',\n",
       " 'producing',\n",
       " 'lingered',\n",
       " 'plashy']"
      ]
     },
     "execution_count": 5,
     "metadata": {},
     "output_type": "execute_result"
    }
   ],
   "source": [
    "list(shakespeare.vocab)[:10]"
   ]
  },
  {
   "cell_type": "code",
   "execution_count": 6,
   "metadata": {},
   "outputs": [
    {
     "data": {
      "text/plain": [
       "22444"
      ]
     },
     "execution_count": 6,
     "metadata": {},
     "output_type": "execute_result"
    }
   ],
   "source": [
    "len(shakespeare.vocab)"
   ]
  },
  {
   "cell_type": "markdown",
   "metadata": {},
   "source": [
    "## 4 Stopwords <a name=\"stopwords\"></a>\n",
    "A set containing the words that may be unimportant."
   ]
  },
  {
   "cell_type": "code",
   "execution_count": 7,
   "metadata": {},
   "outputs": [
    {
     "data": {
      "text/plain": [
       "['about',\n",
       " 'hasn',\n",
       " 'i',\n",
       " \"mustn't\",\n",
       " 'then',\n",
       " 'couldn',\n",
       " 'ours',\n",
       " 'here',\n",
       " 'won',\n",
       " 'shouldn']"
      ]
     },
     "execution_count": 7,
     "metadata": {},
     "output_type": "execute_result"
    }
   ],
   "source": [
    "list(shakespeare.stopwords)[:10]"
   ]
  },
  {
   "cell_type": "markdown",
   "metadata": {},
   "source": [
    "## 5 Filtered Vocabulary <a name=\"filtered_vocabulary\"></a>\n",
    "A set containing the corpus' vocab, with stopwords filtered out."
   ]
  },
  {
   "cell_type": "code",
   "execution_count": 8,
   "metadata": {},
   "outputs": [
    {
     "data": {
      "text/plain": [
       "['philomels',\n",
       " 'using',\n",
       " 'bid',\n",
       " 'stagger',\n",
       " 'metamorphisd',\n",
       " 'loathed',\n",
       " 'fitment',\n",
       " 'producing',\n",
       " 'lingered',\n",
       " 'plashy']"
      ]
     },
     "execution_count": 8,
     "metadata": {},
     "output_type": "execute_result"
    }
   ],
   "source": [
    "list(shakespeare.filtered_vocab)[:10]"
   ]
  },
  {
   "cell_type": "markdown",
   "metadata": {},
   "source": [
    "## 6 Word2Vec Demo with text_wrangler.Corpus <a name=\"word2vec_demo\"></a>"
   ]
  },
  {
   "cell_type": "code",
   "execution_count": 14,
   "metadata": {},
   "outputs": [
    {
     "name": "stdout",
     "output_type": "stream",
     "text": [
      "Round 0 ==================\n",
      "('tybalt', 0.864901065826416)\n",
      "('juliet', 0.7948235273361206)\n",
      "('mercutio', 0.7702454328536987)\n",
      "('nurse', 0.7538067102432251)\n",
      "('imogen', 0.7395459413528442)\n",
      "('rutland', 0.7356479167938232)\n",
      "('troilus', 0.7340472936630249)\n",
      "('arthur', 0.7301068902015686)\n",
      "('lavinia', 0.7268906235694885)\n",
      "('percy', 0.7246760129928589)\n",
      "\n",
      "\n",
      "\n",
      "Round 1 ==================\n",
      "('tybalt', 0.8521748185157776)\n",
      "('juliet', 0.7760286331176758)\n",
      "('mercutio', 0.760892391204834)\n",
      "('rutland', 0.7247177362442017)\n",
      "('nurse', 0.7158874869346619)\n",
      "('percy', 0.7120639681816101)\n",
      "('imogen', 0.7080466747283936)\n",
      "('lavinia', 0.7065379023551941)\n",
      "('troilus', 0.7044037580490112)\n",
      "('arthur', 0.7034294605255127)\n",
      "\n",
      "\n",
      "\n",
      "Round 2 ==================\n",
      "('tybalt', 0.8476352095603943)\n",
      "('mercutio', 0.7645272016525269)\n",
      "('juliet', 0.7600152492523193)\n",
      "('arthur', 0.7063480615615845)\n",
      "('cato', 0.7031240463256836)\n",
      "('nurse', 0.70293790102005)\n",
      "('troilus', 0.7006533145904541)\n",
      "('imogen', 0.6991547346115112)\n",
      "('richmond', 0.6943120956420898)\n",
      "('lavinia', 0.6922498345375061)\n",
      "\n",
      "\n",
      "\n",
      "Round 3 ==================\n",
      "('tybalt', 0.8407829999923706)\n",
      "('mercutio', 0.7501236200332642)\n",
      "('juliet', 0.7363349199295044)\n",
      "('cato', 0.6898269653320312)\n",
      "('benvolio', 0.686690092086792)\n",
      "('arthur', 0.6824208498001099)\n",
      "('montague', 0.6800373792648315)\n",
      "('aeneas', 0.6776838898658752)\n",
      "('troilus', 0.675659716129303)\n",
      "('richmond', 0.6729200482368469)\n",
      "\n",
      "\n",
      "\n",
      "Round 4 ==================\n",
      "('tybalt', 0.8286418914794922)\n",
      "('mercutio', 0.7347580790519714)\n",
      "('juliet', 0.7073820233345032)\n",
      "('benvolio', 0.6708059906959534)\n",
      "('arthur', 0.6629817485809326)\n",
      "('cato', 0.6616808176040649)\n",
      "('aeneas', 0.6560759544372559)\n",
      "('troilus', 0.6495552062988281)\n",
      "('richmond', 0.6470909118652344)\n",
      "('bassianus', 0.6407738924026489)\n",
      "\n",
      "\n",
      "\n"
     ]
    }
   ],
   "source": [
    "from gensim.models import Word2Vec\n",
    "\n",
    "model = Word2Vec(shakespeare.sentence_matrix, size = 120,\n",
    "                 window = 5, min_count=5, workers=8, sg=1)\n",
    "for i in range(5):\n",
    "    model.train(shakespeare.sentence_matrix, total_examples=len(shakespeare.sentence_matrix),\n",
    "                epochs=1, compute_loss=True)\n",
    "    loss = model.get_latest_training_loss()\n",
    "    # Quick glimpse at what Word2Vec finds to be the most similar\n",
    "    sim = model.wv.most_similar(\"romeo\")\n",
    "    print(\"Round {} ==================\".format(i))\n",
    "    for s in sim:\n",
    "        print(s)\n",
    "    print(\"\\n\\n\")"
   ]
  }
 ],
 "metadata": {
  "kernelspec": {
   "display_name": "Python 3",
   "language": "python",
   "name": "python3"
  },
  "language_info": {
   "codemirror_mode": {
    "name": "ipython",
    "version": 3
   },
   "file_extension": ".py",
   "mimetype": "text/x-python",
   "name": "python",
   "nbconvert_exporter": "python",
   "pygments_lexer": "ipython3",
   "version": "3.7.0"
  }
 },
 "nbformat": 4,
 "nbformat_minor": 2
}
