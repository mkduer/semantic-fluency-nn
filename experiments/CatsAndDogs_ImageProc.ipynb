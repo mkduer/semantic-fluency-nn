{
 "cells": [
  {
   "cell_type": "markdown",
   "metadata": {},
   "source": [
    "### Load Cats and Dogs dataset from Kaggle"
   ]
  },
  {
   "cell_type": "code",
   "execution_count": null,
   "metadata": {},
   "outputs": [],
   "source": [
    "from PIL import Image, ImageOps\n",
    "import os\n",
    "import numpy as np\n",
    "\n",
    "path = os.getcwd()\n",
    "#path = path + '/Documents/GitHub/semantic-fluency-nn/datasets/dogs/'\n",
    "dogpath = path + '/Downloads/catsanddogs/PetImages/Dog/'\n",
    "catpath = path + '/Downloads/catsanddogs/PetImages/Cat/'\n",
    "dogfiles = os.listdir(dogpath)\n",
    "\n",
    "N = len(dogfiles)\n",
    "dogs = np.zeros((N,10000))\n",
    "for i in range(0,N-1):\n",
    "    original_image = Image.open(dogpath+dogfiles[i])\n",
    "    size = (100, 100)\n",
    "    resized_image = ImageOps.grayscale(resized_image)\n",
    "    dogs[i,:] = np.reshape(resized_image,(1,10000))\n",
    "\n"
   ]
  },
  {
   "cell_type": "code",
   "execution_count": null,
   "metadata": {},
   "outputs": [],
   "source": [
    "catfiles = os.listdir(catpath)\n",
    "N = len(catfiles)\n",
    "cats = np.zeros((N,10000))\n",
    "for i in range(0,N-1):\n",
    "    original_image = Image.open(catpath+catfiles[i])\n",
    "    size = (100, 100)\n",
    "    resized_image = ImageOps.fit(original_image, size, Image.ANTIALIAS)\n",
    "    resized_image = ImageOps.grayscale(resized_image)\n",
    "    cats[i,:] = np.reshape(resized_image,(1,10000))"
   ]
  },
  {
   "cell_type": "code",
   "execution_count": null,
   "metadata": {},
   "outputs": [],
   "source": [
    "catsraw = np.zeros((12000,10000))\n",
    "dogsraw = np.zeros((12000,10000))\n",
    "catsraw = cats[:12000,:]\n",
    "dogsraw = dogs[:12000,:]\n",
    "catlabels = 2*np.ones((12000,1))\n",
    "doglabels = np.ones((12000,1))"
   ]
  },
  {
   "cell_type": "markdown",
   "metadata": {},
   "source": [
    "### Separate into train and test"
   ]
  },
  {
   "cell_type": "code",
   "execution_count": null,
   "metadata": {},
   "outputs": [],
   "source": [
    "x_train = np.zeros((12000,10000))\n",
    "y_train = np.zeros((12000,1))\n",
    "x_test = np.zeros((12000,10000))\n",
    "y_test = np.zeros((12000,1))\n",
    "x_train[:5999,:] = catsraw[:5999,:]\n",
    "x_train[6000:,:] = dogsraw[:6000,:]\n",
    "y_train[:5999] = catlabels[:5999]\n",
    "y_train[6000:] = doglabels[:6000]\n",
    "\n",
    "x_test[:6000,:] = catsraw[6000:,:]\n",
    "x_test[6001:,:] = dogsraw[6001:,:]\n",
    "y_test[:6000] = catlabels[6000:]\n",
    "y_test[6001:] = doglabels[6001:]"
   ]
  },
  {
   "cell_type": "markdown",
   "metadata": {},
   "source": [
    "### Stash in pickle file"
   ]
  },
  {
   "cell_type": "code",
   "execution_count": null,
   "metadata": {},
   "outputs": [],
   "source": [
    "import pickle\n",
    "with open('catsanddogs.pickle', 'wb') as f:\n",
    "    pickle.dump([x_train, y_train, x_test, y_test], f)"
   ]
  }
 ],
 "metadata": {
  "kernelspec": {
   "display_name": "Python 3",
   "language": "python",
   "name": "python3"
  },
  "language_info": {
   "codemirror_mode": {
    "name": "ipython",
    "version": 3
   },
   "file_extension": ".py",
   "mimetype": "text/x-python",
   "name": "python",
   "nbconvert_exporter": "python",
   "pygments_lexer": "ipython3",
   "version": "3.7.2"
  }
 },
 "nbformat": 4,
 "nbformat_minor": 2
}
