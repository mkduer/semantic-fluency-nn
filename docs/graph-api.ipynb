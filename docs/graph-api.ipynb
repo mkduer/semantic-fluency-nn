{
 "cells": [
  {
   "cell_type": "markdown",
   "metadata": {},
   "source": [
    "# Graph API"
   ]
  },
  {
   "cell_type": "markdown",
   "metadata": {},
   "source": [
    "# Table of contents\n",
    "1. [Introduction](#introduction)\n",
    "1. [Import](#graph_import)\n",
    "2. [Create a graph](#graph_create)\n",
    "3. [Add an edge](#graph_add_edge)\n",
    "4. [Get an edge weight given two nodes](#graph_add_edge)\n",
    "5. [Expand a node](#graph_expand)\n",
    "6. [Example](#graph_example)"
   ]
  },
  {
   "cell_type": "markdown",
   "metadata": {},
   "source": [
    "## Introduction <a name=\"introduction\"></a>\n",
    "The UndirectedGraph class implements a graph using an adjacency matrix. This graph cannot contain self-edges, or repeated edges. Each column and row represents a node in the graph. The node represented by the ith column is the same node represented by the ith row. An edge weight of 0 means there is no edge, but the existence of a non-zero float implies an edge between the nodes.\n",
    "\n",
    "For the context of this API, a node can be of any type. In the examples I use both a string and an integer to demonstrate this. The UndirectedGraph class uses a dictionary to store the node -> row/column integer pairs. This class provides no way to delete a node after it has been added (this can be changed if someone needs that functionality)."
   ]
  },
  {
   "cell_type": "markdown",
   "metadata": {},
   "source": [
    "## Import <a name=\"graph_import\"></a>"
   ]
  },
  {
   "cell_type": "code",
   "execution_count": 1,
   "metadata": {},
   "outputs": [],
   "source": [
    "import os\n",
    "os.chdir('..')\n",
    "\n",
    "from src.graph.Graph import UndirectedGraph"
   ]
  },
  {
   "cell_type": "markdown",
   "metadata": {},
   "source": [
    "### 2.2 Create a graph: <a name=\"graph_create\"></a>"
   ]
  },
  {
   "cell_type": "code",
   "execution_count": 2,
   "metadata": {},
   "outputs": [],
   "source": [
    "g = UndirectedGraph()"
   ]
  },
  {
   "cell_type": "markdown",
   "metadata": {},
   "source": [
    "### 2.3 Add an edge: <a name=\"graph_add_edge\"></a>\n",
    "    Input: Two nodes and a float representing the edge weight\n",
    "    Output: None"
   ]
  },
  {
   "cell_type": "code",
   "execution_count": 3,
   "metadata": {},
   "outputs": [],
   "source": [
    "first_node = 'Gold'\n",
    "second_node = 'Silver'\n",
    "edge_weight = 0.01017856140726281\n",
    "\n",
    "g.add_edge(first_node, second_node, edge_weight)"
   ]
  },
  {
   "cell_type": "markdown",
   "metadata": {},
   "source": [
    "### 2.4 Get an edge weight given two nodes: <a name=\"graph_get_weight\"></a>\n",
    "    Input: Two nodes\n",
    "    Output: An edge weight"
   ]
  },
  {
   "cell_type": "code",
   "execution_count": 4,
   "metadata": {},
   "outputs": [
    {
     "data": {
      "text/plain": [
       "0.01017856140726281"
      ]
     },
     "execution_count": 4,
     "metadata": {},
     "output_type": "execute_result"
    }
   ],
   "source": [
    "g.edge(first_node, second_node)"
   ]
  },
  {
   "cell_type": "markdown",
   "metadata": {},
   "source": [
    "## Expand a node: <a name=\"graph_expand\"></a>\n",
    "    Input: A node\n",
    "    Output: A list of tuples. The 0th element is an adjacent node, and the 1st element is an edge."
   ]
  },
  {
   "cell_type": "code",
   "execution_count": 5,
   "metadata": {},
   "outputs": [
    {
     "data": {
      "text/plain": [
       "[('Silver', 0.01017856140726281)]"
      ]
     },
     "execution_count": 5,
     "metadata": {},
     "output_type": "execute_result"
    }
   ],
   "source": [
    "g.expand('Gold', sort=True)"
   ]
  },
  {
   "cell_type": "markdown",
   "metadata": {},
   "source": [
    "### 2.6 Get a list of the nodes: <a name=\"graph_nodes\"></a>"
   ]
  },
  {
   "cell_type": "code",
   "execution_count": 6,
   "metadata": {},
   "outputs": [
    {
     "data": {
      "text/plain": [
       "['Gold', 'Silver']"
      ]
     },
     "execution_count": 6,
     "metadata": {},
     "output_type": "execute_result"
    }
   ],
   "source": [
    "g.nodes"
   ]
  },
  {
   "cell_type": "markdown",
   "metadata": {},
   "source": [
    "## Example: <a name=\"graph_example\"></a>\n",
    "This example places the numbers 0-9 into a graph with some random number edge weight."
   ]
  },
  {
   "cell_type": "code",
   "execution_count": 7,
   "metadata": {},
   "outputs": [],
   "source": [
    "import numpy as np\n",
    "\n",
    "np.random.seed(8)\n",
    "\n",
    "g = UndirectedGraph()\n",
    "for i in range(0, 10):\n",
    "    for j in range(0, 10):\n",
    "        g.add_edge(i, j, np.random.randint(0, 100))"
   ]
  },
  {
   "cell_type": "markdown",
   "metadata": {},
   "source": [
    "The expand function gives the list of (node, edge) tuples in the order that they are in the adjacency matrix."
   ]
  },
  {
   "cell_type": "code",
   "execution_count": 8,
   "metadata": {},
   "outputs": [
    {
     "data": {
      "text/plain": [
       "[(0, 86.0),\n",
       " (1, 31.0),\n",
       " (2, 20.0),\n",
       " (3, 45.0),\n",
       " (5, 2.0),\n",
       " (6, 66.0),\n",
       " (7, 73.0),\n",
       " (8, 16.0),\n",
       " (9, 28.0)]"
      ]
     },
     "execution_count": 8,
     "metadata": {},
     "output_type": "execute_result"
    }
   ],
   "source": [
    "g.expand(4)"
   ]
  },
  {
   "cell_type": "markdown",
   "metadata": {},
   "source": [
    "The expand function has an option for sorting the edge weights. The default sort is ascending order."
   ]
  },
  {
   "cell_type": "code",
   "execution_count": 9,
   "metadata": {},
   "outputs": [
    {
     "data": {
      "text/plain": [
       "[(5, 2.0),\n",
       " (8, 16.0),\n",
       " (2, 20.0),\n",
       " (9, 28.0),\n",
       " (1, 31.0),\n",
       " (3, 45.0),\n",
       " (6, 66.0),\n",
       " (7, 73.0),\n",
       " (0, 86.0)]"
      ]
     },
     "execution_count": 9,
     "metadata": {},
     "output_type": "execute_result"
    }
   ],
   "source": [
    "g.expand(4, sort=True)"
   ]
  },
  {
   "cell_type": "markdown",
   "metadata": {},
   "source": [
    "The expand function also has an option for reversing the order of the list, whether it is sorted or not. This is what happens with a sorted list."
   ]
  },
  {
   "cell_type": "code",
   "execution_count": 10,
   "metadata": {},
   "outputs": [
    {
     "data": {
      "text/plain": [
       "[(0, 86.0),\n",
       " (7, 73.0),\n",
       " (6, 66.0),\n",
       " (3, 45.0),\n",
       " (1, 31.0),\n",
       " (9, 28.0),\n",
       " (2, 20.0),\n",
       " (8, 16.0),\n",
       " (5, 2.0)]"
      ]
     },
     "execution_count": 10,
     "metadata": {},
     "output_type": "execute_result"
    }
   ],
   "source": [
    "g.expand(4, sort=True, reverse=True)"
   ]
  },
  {
   "cell_type": "markdown",
   "metadata": {},
   "source": [
    "Once the graph is created, we could do some something like this to walk through it."
   ]
  },
  {
   "cell_type": "code",
   "execution_count": 11,
   "metadata": {},
   "outputs": [
    {
     "name": "stdout",
     "output_type": "stream",
     "text": [
      "Path through graph: [8, 2, 8, 9, 0, 7, 9, 7, 4, 0, 8]\n"
     ]
    }
   ],
   "source": [
    "start = np.random.choice(g.nodes)\n",
    "path = [start]\n",
    "curr = start\n",
    "\n",
    "for _ in range(0, 10):\n",
    "    expansion = g.expand(curr)\n",
    "    nodes = np.array([tup[0] for tup in expansion])\n",
    "    edges = np.array([tup[1] for tup in expansion])\n",
    "    prob = [edge/edges.sum() for edge in edges]\n",
    "    curr = np.random.choice(nodes, p=prob)\n",
    "    path.append(curr)\n",
    "    \n",
    "print('Path through graph: {}'.format(path))"
   ]
  }
 ],
 "metadata": {
  "kernelspec": {
   "display_name": "Python 3",
   "language": "python",
   "name": "python3"
  },
  "language_info": {
   "codemirror_mode": {
    "name": "ipython",
    "version": 3
   },
   "file_extension": ".py",
   "mimetype": "text/x-python",
   "name": "python",
   "nbconvert_exporter": "python",
   "pygments_lexer": "ipython3",
   "version": "3.7.1"
  }
 },
 "nbformat": 4,
 "nbformat_minor": 1
}
